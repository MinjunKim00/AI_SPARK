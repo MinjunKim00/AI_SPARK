{
  "cells": [
    {
      "cell_type": "code",
      "execution_count": null,
      "metadata": {
        "id": "_1lBeYf8Q-kl"
      },
      "outputs": [],
      "source": [
        "import warnings\n",
        "warnings.filterwarnings('ignore')\n",
        "from google.colab import drive\n",
        "import os\n",
        "\n",
        "import numpy as np\n",
        "import pandas as pd\n",
        "import matplotlib.pyplot as plt\n",
        "import seaborn as sns\n",
        "\n",
        "import calendar \n",
        "from datetime import datetime"
      ]
    },
    {
      "cell_type": "code",
      "execution_count": null,
      "metadata": {
        "id": "52o4Zv_LRSMV"
      },
      "outputs": [],
      "source": [
        "import glob\n",
        "from sklearn.model_selection import train_test_split\n",
        "from sklearn.linear_model import LinearRegression\n",
        "from sklearn.metrics import mean_squared_error, r2_score"
      ]
    },
    {
      "cell_type": "code",
      "execution_count": null,
      "metadata": {
        "colab": {
          "base_uri": "https://localhost:8080/"
        },
        "id": "RPZRBqRYRU_9",
        "outputId": "b098efc0-4956-4235-f01a-6b8ca8884fe2"
      },
      "outputs": [
        {
          "name": "stdout",
          "output_type": "stream",
          "text": [
            "Drive already mounted at /content/drive; to attempt to forcibly remount, call drive.mount(\"/content/drive\", force_remount=True).\n"
          ]
        }
      ],
      "source": [
        "drive.mount('/content/drive')"
      ]
    },
    {
      "cell_type": "markdown",
      "metadata": {
        "id": "LTKVITleRhDC"
      },
      "source": [
        "##TRAIN데이터 불러오기"
      ]
    },
    {
      "cell_type": "code",
      "execution_count": null,
      "metadata": {
        "id": "ySHOAVhTRXN_"
      },
      "outputs": [],
      "source": [
        "path = '/content/drive/MyDrive/ColabNotebooks/AiSpark/TRAIN_DATA'  # 여러분의 CSV 파일이 위치한 폴더 경로로 변경하세요.\n",
        "all_files = glob.glob(path + '/*.csv')\n",
        "\n",
        "data_frames = []\n",
        "\n",
        "for file in all_files:\n",
        "    df = pd.read_csv(file, index_col=None, header=0)\n",
        "    data_frames.append(df)\n",
        "\n",
        "train = pd.concat(data_frames, axis=0, ignore_index=True)"
      ]
    },
    {
      "cell_type": "markdown",
      "metadata": {
        "id": "d5rr8j6uRrSI"
      },
      "source": [
        "##TEST데이터 불러오기"
      ]
    },
    {
      "cell_type": "code",
      "execution_count": null,
      "metadata": {
        "id": "eMQSyYBuRcpk"
      },
      "outputs": [],
      "source": [
        "path = '/content/drive/MyDrive/ColabNotebooks/AiSpark/TEST_DATA'  # 여러분의 CSV 파일이 위치한 폴더 경로로 변경하세요.\n",
        "all_files = glob.glob(path + '/*.csv')\n",
        "\n",
        "data_frames = []\n",
        "\n",
        "for file in all_files:\n",
        "    df = pd.read_csv(file, index_col=None, header=0)\n",
        "    data_frames.append(df)\n",
        "\n",
        "test = pd.concat(data_frames, axis=0, ignore_index=True)"
      ]
    },
    {
      "cell_type": "markdown",
      "metadata": {
        "id": "JZuFlZemR4wf"
      },
      "source": [
        "##결측 데이터 선형 보간"
      ]
    },
    {
      "cell_type": "code",
      "execution_count": null,
      "metadata": {
        "id": "clqqyExERx8u"
      },
      "outputs": [],
      "source": [
        "train = train.interpolate(method='linear')\n",
        "test = test.interpolate(method='linear')"
      ]
    },
    {
      "cell_type": "code",
      "execution_count": null,
      "metadata": {
        "colab": {
          "base_uri": "https://localhost:8080/",
          "height": 206
        },
        "id": "xv57wKIISTQz",
        "outputId": "d8dbd94f-a453-4670-dcba-dca006552d91"
      },
      "outputs": [
        {
          "data": {
            "text/html": [
              "\n",
              "  <div id=\"df-3489bf5c-fa49-4dfb-831a-280cf46c7252\">\n",
              "    <div class=\"colab-df-container\">\n",
              "      <div>\n",
              "<style scoped>\n",
              "    .dataframe tbody tr th:only-of-type {\n",
              "        vertical-align: middle;\n",
              "    }\n",
              "\n",
              "    .dataframe tbody tr th {\n",
              "        vertical-align: top;\n",
              "    }\n",
              "\n",
              "    .dataframe thead th {\n",
              "        text-align: right;\n",
              "    }\n",
              "</style>\n",
              "<table border=\"1\" class=\"dataframe\">\n",
              "  <thead>\n",
              "    <tr style=\"text-align: right;\">\n",
              "      <th></th>\n",
              "      <th>연도</th>\n",
              "      <th>일시</th>\n",
              "      <th>측정소</th>\n",
              "      <th>PM2.5</th>\n",
              "      <th>기온(°C)</th>\n",
              "      <th>습도(%)</th>\n",
              "    </tr>\n",
              "  </thead>\n",
              "  <tbody>\n",
              "    <tr>\n",
              "      <th>0</th>\n",
              "      <td>0</td>\n",
              "      <td>01-01 00:00</td>\n",
              "      <td>공주</td>\n",
              "      <td>0.056</td>\n",
              "      <td>0.173776</td>\n",
              "      <td>0.828</td>\n",
              "    </tr>\n",
              "    <tr>\n",
              "      <th>1</th>\n",
              "      <td>0</td>\n",
              "      <td>01-01 01:00</td>\n",
              "      <td>공주</td>\n",
              "      <td>0.060</td>\n",
              "      <td>0.176935</td>\n",
              "      <td>0.831</td>\n",
              "    </tr>\n",
              "    <tr>\n",
              "      <th>2</th>\n",
              "      <td>0</td>\n",
              "      <td>01-01 02:00</td>\n",
              "      <td>공주</td>\n",
              "      <td>0.068</td>\n",
              "      <td>0.180095</td>\n",
              "      <td>0.784</td>\n",
              "    </tr>\n",
              "    <tr>\n",
              "      <th>3</th>\n",
              "      <td>0</td>\n",
              "      <td>01-01 03:00</td>\n",
              "      <td>공주</td>\n",
              "      <td>0.060</td>\n",
              "      <td>0.178515</td>\n",
              "      <td>0.745</td>\n",
              "    </tr>\n",
              "    <tr>\n",
              "      <th>4</th>\n",
              "      <td>0</td>\n",
              "      <td>01-01 04:00</td>\n",
              "      <td>공주</td>\n",
              "      <td>0.068</td>\n",
              "      <td>0.164297</td>\n",
              "      <td>0.750</td>\n",
              "    </tr>\n",
              "  </tbody>\n",
              "</table>\n",
              "</div>\n",
              "      <button class=\"colab-df-convert\" onclick=\"convertToInteractive('df-3489bf5c-fa49-4dfb-831a-280cf46c7252')\"\n",
              "              title=\"Convert this dataframe to an interactive table.\"\n",
              "              style=\"display:none;\">\n",
              "        \n",
              "  <svg xmlns=\"http://www.w3.org/2000/svg\" height=\"24px\"viewBox=\"0 0 24 24\"\n",
              "       width=\"24px\">\n",
              "    <path d=\"M0 0h24v24H0V0z\" fill=\"none\"/>\n",
              "    <path d=\"M18.56 5.44l.94 2.06.94-2.06 2.06-.94-2.06-.94-.94-2.06-.94 2.06-2.06.94zm-11 1L8.5 8.5l.94-2.06 2.06-.94-2.06-.94L8.5 2.5l-.94 2.06-2.06.94zm10 10l.94 2.06.94-2.06 2.06-.94-2.06-.94-.94-2.06-.94 2.06-2.06.94z\"/><path d=\"M17.41 7.96l-1.37-1.37c-.4-.4-.92-.59-1.43-.59-.52 0-1.04.2-1.43.59L10.3 9.45l-7.72 7.72c-.78.78-.78 2.05 0 2.83L4 21.41c.39.39.9.59 1.41.59.51 0 1.02-.2 1.41-.59l7.78-7.78 2.81-2.81c.8-.78.8-2.07 0-2.86zM5.41 20L4 18.59l7.72-7.72 1.47 1.35L5.41 20z\"/>\n",
              "  </svg>\n",
              "      </button>\n",
              "      \n",
              "  <style>\n",
              "    .colab-df-container {\n",
              "      display:flex;\n",
              "      flex-wrap:wrap;\n",
              "      gap: 12px;\n",
              "    }\n",
              "\n",
              "    .colab-df-convert {\n",
              "      background-color: #E8F0FE;\n",
              "      border: none;\n",
              "      border-radius: 50%;\n",
              "      cursor: pointer;\n",
              "      display: none;\n",
              "      fill: #1967D2;\n",
              "      height: 32px;\n",
              "      padding: 0 0 0 0;\n",
              "      width: 32px;\n",
              "    }\n",
              "\n",
              "    .colab-df-convert:hover {\n",
              "      background-color: #E2EBFA;\n",
              "      box-shadow: 0px 1px 2px rgba(60, 64, 67, 0.3), 0px 1px 3px 1px rgba(60, 64, 67, 0.15);\n",
              "      fill: #174EA6;\n",
              "    }\n",
              "\n",
              "    [theme=dark] .colab-df-convert {\n",
              "      background-color: #3B4455;\n",
              "      fill: #D2E3FC;\n",
              "    }\n",
              "\n",
              "    [theme=dark] .colab-df-convert:hover {\n",
              "      background-color: #434B5C;\n",
              "      box-shadow: 0px 1px 3px 1px rgba(0, 0, 0, 0.15);\n",
              "      filter: drop-shadow(0px 1px 2px rgba(0, 0, 0, 0.3));\n",
              "      fill: #FFFFFF;\n",
              "    }\n",
              "  </style>\n",
              "\n",
              "      <script>\n",
              "        const buttonEl =\n",
              "          document.querySelector('#df-3489bf5c-fa49-4dfb-831a-280cf46c7252 button.colab-df-convert');\n",
              "        buttonEl.style.display =\n",
              "          google.colab.kernel.accessAllowed ? 'block' : 'none';\n",
              "\n",
              "        async function convertToInteractive(key) {\n",
              "          const element = document.querySelector('#df-3489bf5c-fa49-4dfb-831a-280cf46c7252');\n",
              "          const dataTable =\n",
              "            await google.colab.kernel.invokeFunction('convertToInteractive',\n",
              "                                                     [key], {});\n",
              "          if (!dataTable) return;\n",
              "\n",
              "          const docLinkHtml = 'Like what you see? Visit the ' +\n",
              "            '<a target=\"_blank\" href=https://colab.research.google.com/notebooks/data_table.ipynb>data table notebook</a>'\n",
              "            + ' to learn more about interactive tables.';\n",
              "          element.innerHTML = '';\n",
              "          dataTable['output_type'] = 'display_data';\n",
              "          await google.colab.output.renderOutput(dataTable, element);\n",
              "          const docLink = document.createElement('div');\n",
              "          docLink.innerHTML = docLinkHtml;\n",
              "          element.appendChild(docLink);\n",
              "        }\n",
              "      </script>\n",
              "    </div>\n",
              "  </div>\n",
              "  "
            ],
            "text/plain": [
              "   연도           일시 측정소  PM2.5    기온(°C)  습도(%)\n",
              "0   0  01-01 00:00  공주  0.056  0.173776  0.828\n",
              "1   0  01-01 01:00  공주  0.060  0.176935  0.831\n",
              "2   0  01-01 02:00  공주  0.068  0.180095  0.784\n",
              "3   0  01-01 03:00  공주  0.060  0.178515  0.745\n",
              "4   0  01-01 04:00  공주  0.068  0.164297  0.750"
            ]
          },
          "execution_count": 7,
          "metadata": {},
          "output_type": "execute_result"
        }
      ],
      "source": [
        "train.head()"
      ]
    },
    {
      "cell_type": "markdown",
      "metadata": {
        "id": "3w7gXh2xTGgg"
      },
      "source": [
        "##일시 칼럼 전처리"
      ]
    },
    {
      "cell_type": "code",
      "execution_count": null,
      "metadata": {
        "id": "H1Z4VT35R_hT"
      },
      "outputs": [],
      "source": [
        "def apply_leap_year(start_year, dayofyear):\n",
        "    year = start_year\n",
        "    while True:\n",
        "        if pd.Timestamp(year).is_leap_year:\n",
        "            if dayofyear > 366:\n",
        "                dayofyear -= 366\n",
        "                year += 1\n",
        "            else:\n",
        "                break\n",
        "        else:\n",
        "            if dayofyear > 365:\n",
        "                dayofyear -= 365\n",
        "                year += 1\n",
        "            else:\n",
        "                break\n",
        "    return year, dayofyear\n",
        "\n",
        "# 일시(datetime) 열의 형식 변경\n",
        "train['일시'] = pd.to_datetime(train['일시'], format='%m-%d %H:%M', errors='coerce')\n",
        "\n",
        "# 시작 년도 설정\n",
        "start_year = 2016\n",
        "\n",
        "# 윤년을 고려한 년도 정보 추가\n",
        "train['일시'] = train['일시'].apply(lambda x: x.replace(year=apply_leap_year(start_year, x.dayofyear)[0]) if not pd.isna(x) else x)\n"
      ]
    },
    {
      "cell_type": "code",
      "execution_count": null,
      "metadata": {
        "colab": {
          "base_uri": "https://localhost:8080/",
          "height": 206
        },
        "id": "TG5T5kP3SQAE",
        "outputId": "e2a6cc86-a608-49de-a793-c9ea3d479ac9"
      },
      "outputs": [
        {
          "data": {
            "text/html": [
              "\n",
              "  <div id=\"df-253bf609-0fd4-42e4-882b-ed174a62f026\">\n",
              "    <div class=\"colab-df-container\">\n",
              "      <div>\n",
              "<style scoped>\n",
              "    .dataframe tbody tr th:only-of-type {\n",
              "        vertical-align: middle;\n",
              "    }\n",
              "\n",
              "    .dataframe tbody tr th {\n",
              "        vertical-align: top;\n",
              "    }\n",
              "\n",
              "    .dataframe thead th {\n",
              "        text-align: right;\n",
              "    }\n",
              "</style>\n",
              "<table border=\"1\" class=\"dataframe\">\n",
              "  <thead>\n",
              "    <tr style=\"text-align: right;\">\n",
              "      <th></th>\n",
              "      <th>연도</th>\n",
              "      <th>일시</th>\n",
              "      <th>측정소</th>\n",
              "      <th>PM2.5</th>\n",
              "      <th>기온(°C)</th>\n",
              "      <th>습도(%)</th>\n",
              "    </tr>\n",
              "  </thead>\n",
              "  <tbody>\n",
              "    <tr>\n",
              "      <th>0</th>\n",
              "      <td>0</td>\n",
              "      <td>2016-01-01 00:00:00</td>\n",
              "      <td>공주</td>\n",
              "      <td>0.056</td>\n",
              "      <td>0.173776</td>\n",
              "      <td>0.828</td>\n",
              "    </tr>\n",
              "    <tr>\n",
              "      <th>1</th>\n",
              "      <td>0</td>\n",
              "      <td>2016-01-01 01:00:00</td>\n",
              "      <td>공주</td>\n",
              "      <td>0.060</td>\n",
              "      <td>0.176935</td>\n",
              "      <td>0.831</td>\n",
              "    </tr>\n",
              "    <tr>\n",
              "      <th>2</th>\n",
              "      <td>0</td>\n",
              "      <td>2016-01-01 02:00:00</td>\n",
              "      <td>공주</td>\n",
              "      <td>0.068</td>\n",
              "      <td>0.180095</td>\n",
              "      <td>0.784</td>\n",
              "    </tr>\n",
              "    <tr>\n",
              "      <th>3</th>\n",
              "      <td>0</td>\n",
              "      <td>2016-01-01 03:00:00</td>\n",
              "      <td>공주</td>\n",
              "      <td>0.060</td>\n",
              "      <td>0.178515</td>\n",
              "      <td>0.745</td>\n",
              "    </tr>\n",
              "    <tr>\n",
              "      <th>4</th>\n",
              "      <td>0</td>\n",
              "      <td>2016-01-01 04:00:00</td>\n",
              "      <td>공주</td>\n",
              "      <td>0.068</td>\n",
              "      <td>0.164297</td>\n",
              "      <td>0.750</td>\n",
              "    </tr>\n",
              "  </tbody>\n",
              "</table>\n",
              "</div>\n",
              "      <button class=\"colab-df-convert\" onclick=\"convertToInteractive('df-253bf609-0fd4-42e4-882b-ed174a62f026')\"\n",
              "              title=\"Convert this dataframe to an interactive table.\"\n",
              "              style=\"display:none;\">\n",
              "        \n",
              "  <svg xmlns=\"http://www.w3.org/2000/svg\" height=\"24px\"viewBox=\"0 0 24 24\"\n",
              "       width=\"24px\">\n",
              "    <path d=\"M0 0h24v24H0V0z\" fill=\"none\"/>\n",
              "    <path d=\"M18.56 5.44l.94 2.06.94-2.06 2.06-.94-2.06-.94-.94-2.06-.94 2.06-2.06.94zm-11 1L8.5 8.5l.94-2.06 2.06-.94-2.06-.94L8.5 2.5l-.94 2.06-2.06.94zm10 10l.94 2.06.94-2.06 2.06-.94-2.06-.94-.94-2.06-.94 2.06-2.06.94z\"/><path d=\"M17.41 7.96l-1.37-1.37c-.4-.4-.92-.59-1.43-.59-.52 0-1.04.2-1.43.59L10.3 9.45l-7.72 7.72c-.78.78-.78 2.05 0 2.83L4 21.41c.39.39.9.59 1.41.59.51 0 1.02-.2 1.41-.59l7.78-7.78 2.81-2.81c.8-.78.8-2.07 0-2.86zM5.41 20L4 18.59l7.72-7.72 1.47 1.35L5.41 20z\"/>\n",
              "  </svg>\n",
              "      </button>\n",
              "      \n",
              "  <style>\n",
              "    .colab-df-container {\n",
              "      display:flex;\n",
              "      flex-wrap:wrap;\n",
              "      gap: 12px;\n",
              "    }\n",
              "\n",
              "    .colab-df-convert {\n",
              "      background-color: #E8F0FE;\n",
              "      border: none;\n",
              "      border-radius: 50%;\n",
              "      cursor: pointer;\n",
              "      display: none;\n",
              "      fill: #1967D2;\n",
              "      height: 32px;\n",
              "      padding: 0 0 0 0;\n",
              "      width: 32px;\n",
              "    }\n",
              "\n",
              "    .colab-df-convert:hover {\n",
              "      background-color: #E2EBFA;\n",
              "      box-shadow: 0px 1px 2px rgba(60, 64, 67, 0.3), 0px 1px 3px 1px rgba(60, 64, 67, 0.15);\n",
              "      fill: #174EA6;\n",
              "    }\n",
              "\n",
              "    [theme=dark] .colab-df-convert {\n",
              "      background-color: #3B4455;\n",
              "      fill: #D2E3FC;\n",
              "    }\n",
              "\n",
              "    [theme=dark] .colab-df-convert:hover {\n",
              "      background-color: #434B5C;\n",
              "      box-shadow: 0px 1px 3px 1px rgba(0, 0, 0, 0.15);\n",
              "      filter: drop-shadow(0px 1px 2px rgba(0, 0, 0, 0.3));\n",
              "      fill: #FFFFFF;\n",
              "    }\n",
              "  </style>\n",
              "\n",
              "      <script>\n",
              "        const buttonEl =\n",
              "          document.querySelector('#df-253bf609-0fd4-42e4-882b-ed174a62f026 button.colab-df-convert');\n",
              "        buttonEl.style.display =\n",
              "          google.colab.kernel.accessAllowed ? 'block' : 'none';\n",
              "\n",
              "        async function convertToInteractive(key) {\n",
              "          const element = document.querySelector('#df-253bf609-0fd4-42e4-882b-ed174a62f026');\n",
              "          const dataTable =\n",
              "            await google.colab.kernel.invokeFunction('convertToInteractive',\n",
              "                                                     [key], {});\n",
              "          if (!dataTable) return;\n",
              "\n",
              "          const docLinkHtml = 'Like what you see? Visit the ' +\n",
              "            '<a target=\"_blank\" href=https://colab.research.google.com/notebooks/data_table.ipynb>data table notebook</a>'\n",
              "            + ' to learn more about interactive tables.';\n",
              "          element.innerHTML = '';\n",
              "          dataTable['output_type'] = 'display_data';\n",
              "          await google.colab.output.renderOutput(dataTable, element);\n",
              "          const docLink = document.createElement('div');\n",
              "          docLink.innerHTML = docLinkHtml;\n",
              "          element.appendChild(docLink);\n",
              "        }\n",
              "      </script>\n",
              "    </div>\n",
              "  </div>\n",
              "  "
            ],
            "text/plain": [
              "   연도                  일시 측정소  PM2.5    기온(°C)  습도(%)\n",
              "0   0 2016-01-01 00:00:00  공주  0.056  0.173776  0.828\n",
              "1   0 2016-01-01 01:00:00  공주  0.060  0.176935  0.831\n",
              "2   0 2016-01-01 02:00:00  공주  0.068  0.180095  0.784\n",
              "3   0 2016-01-01 03:00:00  공주  0.060  0.178515  0.745\n",
              "4   0 2016-01-01 04:00:00  공주  0.068  0.164297  0.750"
            ]
          },
          "execution_count": 9,
          "metadata": {},
          "output_type": "execute_result"
        }
      ],
      "source": [
        "train.head()"
      ]
    },
    {
      "cell_type": "markdown",
      "metadata": {
        "id": "aRLVa1PkWlEI"
      },
      "source": [
        "##쓸모없어진 '연도' 칼럼 삭제"
      ]
    },
    {
      "cell_type": "code",
      "execution_count": null,
      "metadata": {
        "id": "4gGh8q3uTENa"
      },
      "outputs": [],
      "source": [
        "train.drop(columns=['연도'], inplace=True)"
      ]
    },
    {
      "cell_type": "code",
      "execution_count": null,
      "metadata": {
        "colab": {
          "base_uri": "https://localhost:8080/",
          "height": 206
        },
        "id": "z9PFYO1QTenn",
        "outputId": "5fb0ad9c-b338-4c5a-f834-ccf8ed39cce2"
      },
      "outputs": [
        {
          "data": {
            "text/html": [
              "\n",
              "  <div id=\"df-9a20826a-8131-42f6-9d55-e687aaf4d181\">\n",
              "    <div class=\"colab-df-container\">\n",
              "      <div>\n",
              "<style scoped>\n",
              "    .dataframe tbody tr th:only-of-type {\n",
              "        vertical-align: middle;\n",
              "    }\n",
              "\n",
              "    .dataframe tbody tr th {\n",
              "        vertical-align: top;\n",
              "    }\n",
              "\n",
              "    .dataframe thead th {\n",
              "        text-align: right;\n",
              "    }\n",
              "</style>\n",
              "<table border=\"1\" class=\"dataframe\">\n",
              "  <thead>\n",
              "    <tr style=\"text-align: right;\">\n",
              "      <th></th>\n",
              "      <th>일시</th>\n",
              "      <th>측정소</th>\n",
              "      <th>PM2.5</th>\n",
              "      <th>기온(°C)</th>\n",
              "      <th>습도(%)</th>\n",
              "    </tr>\n",
              "  </thead>\n",
              "  <tbody>\n",
              "    <tr>\n",
              "      <th>0</th>\n",
              "      <td>2016-01-01 00:00:00</td>\n",
              "      <td>공주</td>\n",
              "      <td>0.056</td>\n",
              "      <td>0.173776</td>\n",
              "      <td>0.828</td>\n",
              "    </tr>\n",
              "    <tr>\n",
              "      <th>1</th>\n",
              "      <td>2016-01-01 01:00:00</td>\n",
              "      <td>공주</td>\n",
              "      <td>0.060</td>\n",
              "      <td>0.176935</td>\n",
              "      <td>0.831</td>\n",
              "    </tr>\n",
              "    <tr>\n",
              "      <th>2</th>\n",
              "      <td>2016-01-01 02:00:00</td>\n",
              "      <td>공주</td>\n",
              "      <td>0.068</td>\n",
              "      <td>0.180095</td>\n",
              "      <td>0.784</td>\n",
              "    </tr>\n",
              "    <tr>\n",
              "      <th>3</th>\n",
              "      <td>2016-01-01 03:00:00</td>\n",
              "      <td>공주</td>\n",
              "      <td>0.060</td>\n",
              "      <td>0.178515</td>\n",
              "      <td>0.745</td>\n",
              "    </tr>\n",
              "    <tr>\n",
              "      <th>4</th>\n",
              "      <td>2016-01-01 04:00:00</td>\n",
              "      <td>공주</td>\n",
              "      <td>0.068</td>\n",
              "      <td>0.164297</td>\n",
              "      <td>0.750</td>\n",
              "    </tr>\n",
              "  </tbody>\n",
              "</table>\n",
              "</div>\n",
              "      <button class=\"colab-df-convert\" onclick=\"convertToInteractive('df-9a20826a-8131-42f6-9d55-e687aaf4d181')\"\n",
              "              title=\"Convert this dataframe to an interactive table.\"\n",
              "              style=\"display:none;\">\n",
              "        \n",
              "  <svg xmlns=\"http://www.w3.org/2000/svg\" height=\"24px\"viewBox=\"0 0 24 24\"\n",
              "       width=\"24px\">\n",
              "    <path d=\"M0 0h24v24H0V0z\" fill=\"none\"/>\n",
              "    <path d=\"M18.56 5.44l.94 2.06.94-2.06 2.06-.94-2.06-.94-.94-2.06-.94 2.06-2.06.94zm-11 1L8.5 8.5l.94-2.06 2.06-.94-2.06-.94L8.5 2.5l-.94 2.06-2.06.94zm10 10l.94 2.06.94-2.06 2.06-.94-2.06-.94-.94-2.06-.94 2.06-2.06.94z\"/><path d=\"M17.41 7.96l-1.37-1.37c-.4-.4-.92-.59-1.43-.59-.52 0-1.04.2-1.43.59L10.3 9.45l-7.72 7.72c-.78.78-.78 2.05 0 2.83L4 21.41c.39.39.9.59 1.41.59.51 0 1.02-.2 1.41-.59l7.78-7.78 2.81-2.81c.8-.78.8-2.07 0-2.86zM5.41 20L4 18.59l7.72-7.72 1.47 1.35L5.41 20z\"/>\n",
              "  </svg>\n",
              "      </button>\n",
              "      \n",
              "  <style>\n",
              "    .colab-df-container {\n",
              "      display:flex;\n",
              "      flex-wrap:wrap;\n",
              "      gap: 12px;\n",
              "    }\n",
              "\n",
              "    .colab-df-convert {\n",
              "      background-color: #E8F0FE;\n",
              "      border: none;\n",
              "      border-radius: 50%;\n",
              "      cursor: pointer;\n",
              "      display: none;\n",
              "      fill: #1967D2;\n",
              "      height: 32px;\n",
              "      padding: 0 0 0 0;\n",
              "      width: 32px;\n",
              "    }\n",
              "\n",
              "    .colab-df-convert:hover {\n",
              "      background-color: #E2EBFA;\n",
              "      box-shadow: 0px 1px 2px rgba(60, 64, 67, 0.3), 0px 1px 3px 1px rgba(60, 64, 67, 0.15);\n",
              "      fill: #174EA6;\n",
              "    }\n",
              "\n",
              "    [theme=dark] .colab-df-convert {\n",
              "      background-color: #3B4455;\n",
              "      fill: #D2E3FC;\n",
              "    }\n",
              "\n",
              "    [theme=dark] .colab-df-convert:hover {\n",
              "      background-color: #434B5C;\n",
              "      box-shadow: 0px 1px 3px 1px rgba(0, 0, 0, 0.15);\n",
              "      filter: drop-shadow(0px 1px 2px rgba(0, 0, 0, 0.3));\n",
              "      fill: #FFFFFF;\n",
              "    }\n",
              "  </style>\n",
              "\n",
              "      <script>\n",
              "        const buttonEl =\n",
              "          document.querySelector('#df-9a20826a-8131-42f6-9d55-e687aaf4d181 button.colab-df-convert');\n",
              "        buttonEl.style.display =\n",
              "          google.colab.kernel.accessAllowed ? 'block' : 'none';\n",
              "\n",
              "        async function convertToInteractive(key) {\n",
              "          const element = document.querySelector('#df-9a20826a-8131-42f6-9d55-e687aaf4d181');\n",
              "          const dataTable =\n",
              "            await google.colab.kernel.invokeFunction('convertToInteractive',\n",
              "                                                     [key], {});\n",
              "          if (!dataTable) return;\n",
              "\n",
              "          const docLinkHtml = 'Like what you see? Visit the ' +\n",
              "            '<a target=\"_blank\" href=https://colab.research.google.com/notebooks/data_table.ipynb>data table notebook</a>'\n",
              "            + ' to learn more about interactive tables.';\n",
              "          element.innerHTML = '';\n",
              "          dataTable['output_type'] = 'display_data';\n",
              "          await google.colab.output.renderOutput(dataTable, element);\n",
              "          const docLink = document.createElement('div');\n",
              "          docLink.innerHTML = docLinkHtml;\n",
              "          element.appendChild(docLink);\n",
              "        }\n",
              "      </script>\n",
              "    </div>\n",
              "  </div>\n",
              "  "
            ],
            "text/plain": [
              "                   일시 측정소  PM2.5    기온(°C)  습도(%)\n",
              "0 2016-01-01 00:00:00  공주  0.056  0.173776  0.828\n",
              "1 2016-01-01 01:00:00  공주  0.060  0.176935  0.831\n",
              "2 2016-01-01 02:00:00  공주  0.068  0.180095  0.784\n",
              "3 2016-01-01 03:00:00  공주  0.060  0.178515  0.745\n",
              "4 2016-01-01 04:00:00  공주  0.068  0.164297  0.750"
            ]
          },
          "execution_count": 11,
          "metadata": {},
          "output_type": "execute_result"
        }
      ],
      "source": [
        "train.head()"
      ]
    },
    {
      "cell_type": "code",
      "execution_count": null,
      "metadata": {
        "colab": {
          "base_uri": "https://localhost:8080/"
        },
        "id": "NZKM3nKaVPav",
        "outputId": "be5d43ab-97cb-4381-8451-3593cfc5307c"
      },
      "outputs": [
        {
          "name": "stdout",
          "output_type": "stream",
          "text": [
            "일시        408\n",
            "측정소         0\n",
            "PM2.5       0\n",
            "기온(°C)      0\n",
            "습도(%)       0\n",
            "dtype: int64\n"
          ]
        }
      ],
      "source": [
        "missing_values_count = train.isnull().sum()\n",
        "print(missing_values_count)"
      ]
    },
    {
      "cell_type": "code",
      "execution_count": null,
      "metadata": {
        "id": "TMgIHWEBWLkb"
      },
      "outputs": [],
      "source": [
        "train = train.dropna(subset=['일시'])"
      ]
    },
    {
      "cell_type": "code",
      "execution_count": null,
      "metadata": {
        "colab": {
          "base_uri": "https://localhost:8080/"
        },
        "id": "-_534kGqWQoP",
        "outputId": "c8994317-96aa-4962-9388-631f8ef47ff4"
      },
      "outputs": [
        {
          "name": "stdout",
          "output_type": "stream",
          "text": [
            "일시        0\n",
            "측정소       0\n",
            "PM2.5     0\n",
            "기온(°C)    0\n",
            "습도(%)     0\n",
            "dtype: int64\n"
          ]
        }
      ],
      "source": [
        "missing_values_count = train.isnull().sum()\n",
        "print(missing_values_count)"
      ]
    },
    {
      "cell_type": "code",
      "execution_count": null,
      "metadata": {
        "id": "ZO7Vz-XxTfmK"
      },
      "outputs": [],
      "source": [
        "# 일시 데이터를 년, 월, 일 칼럼으로 정수 형태로 분리 (결측값 처리)\n",
        "train['년'] = train['일시'].apply(lambda x: pd.to_datetime(x).year if not pd.isna(x) else x).astype(pd.Int64Dtype())\n",
        "\n",
        "# 월과 일 칼럼을 2자리 숫자 형태로 추가 (결측값 처리)\n",
        "train['월'] = train['일시'].apply(lambda x: pd.to_datetime(x).strftime('%m') if not pd.isna(x) else x)\n",
        "train['일'] = train['일시'].apply(lambda x: pd.to_datetime(x).strftime('%d') if not pd.isna(x) else x)\n",
        "\n",
        "# 시간 칼럼 추가 (결측값 처리)\n",
        "train['시간'] = train['일시'].apply(lambda x: pd.to_datetime(x).strftime('%H:%M') if not pd.isna(x) else x)\n"
      ]
    },
    {
      "cell_type": "code",
      "execution_count": null,
      "metadata": {
        "colab": {
          "base_uri": "https://localhost:8080/",
          "height": 206
        },
        "id": "6J2imE2VTxZY",
        "outputId": "aa83b7eb-c31d-45ca-83d7-3173bb904762"
      },
      "outputs": [
        {
          "data": {
            "text/html": [
              "\n",
              "  <div id=\"df-95c2b962-2c3e-4974-951b-4e4e4c84546a\">\n",
              "    <div class=\"colab-df-container\">\n",
              "      <div>\n",
              "<style scoped>\n",
              "    .dataframe tbody tr th:only-of-type {\n",
              "        vertical-align: middle;\n",
              "    }\n",
              "\n",
              "    .dataframe tbody tr th {\n",
              "        vertical-align: top;\n",
              "    }\n",
              "\n",
              "    .dataframe thead th {\n",
              "        text-align: right;\n",
              "    }\n",
              "</style>\n",
              "<table border=\"1\" class=\"dataframe\">\n",
              "  <thead>\n",
              "    <tr style=\"text-align: right;\">\n",
              "      <th></th>\n",
              "      <th>일시</th>\n",
              "      <th>측정소</th>\n",
              "      <th>PM2.5</th>\n",
              "      <th>기온(°C)</th>\n",
              "      <th>습도(%)</th>\n",
              "      <th>년</th>\n",
              "      <th>월</th>\n",
              "      <th>일</th>\n",
              "      <th>시간</th>\n",
              "    </tr>\n",
              "  </thead>\n",
              "  <tbody>\n",
              "    <tr>\n",
              "      <th>0</th>\n",
              "      <td>2016-01-01 00:00:00</td>\n",
              "      <td>공주</td>\n",
              "      <td>0.056</td>\n",
              "      <td>0.173776</td>\n",
              "      <td>0.828</td>\n",
              "      <td>2016</td>\n",
              "      <td>01</td>\n",
              "      <td>01</td>\n",
              "      <td>00:00</td>\n",
              "    </tr>\n",
              "    <tr>\n",
              "      <th>1</th>\n",
              "      <td>2016-01-01 01:00:00</td>\n",
              "      <td>공주</td>\n",
              "      <td>0.060</td>\n",
              "      <td>0.176935</td>\n",
              "      <td>0.831</td>\n",
              "      <td>2016</td>\n",
              "      <td>01</td>\n",
              "      <td>01</td>\n",
              "      <td>01:00</td>\n",
              "    </tr>\n",
              "    <tr>\n",
              "      <th>2</th>\n",
              "      <td>2016-01-01 02:00:00</td>\n",
              "      <td>공주</td>\n",
              "      <td>0.068</td>\n",
              "      <td>0.180095</td>\n",
              "      <td>0.784</td>\n",
              "      <td>2016</td>\n",
              "      <td>01</td>\n",
              "      <td>01</td>\n",
              "      <td>02:00</td>\n",
              "    </tr>\n",
              "    <tr>\n",
              "      <th>3</th>\n",
              "      <td>2016-01-01 03:00:00</td>\n",
              "      <td>공주</td>\n",
              "      <td>0.060</td>\n",
              "      <td>0.178515</td>\n",
              "      <td>0.745</td>\n",
              "      <td>2016</td>\n",
              "      <td>01</td>\n",
              "      <td>01</td>\n",
              "      <td>03:00</td>\n",
              "    </tr>\n",
              "    <tr>\n",
              "      <th>4</th>\n",
              "      <td>2016-01-01 04:00:00</td>\n",
              "      <td>공주</td>\n",
              "      <td>0.068</td>\n",
              "      <td>0.164297</td>\n",
              "      <td>0.750</td>\n",
              "      <td>2016</td>\n",
              "      <td>01</td>\n",
              "      <td>01</td>\n",
              "      <td>04:00</td>\n",
              "    </tr>\n",
              "  </tbody>\n",
              "</table>\n",
              "</div>\n",
              "      <button class=\"colab-df-convert\" onclick=\"convertToInteractive('df-95c2b962-2c3e-4974-951b-4e4e4c84546a')\"\n",
              "              title=\"Convert this dataframe to an interactive table.\"\n",
              "              style=\"display:none;\">\n",
              "        \n",
              "  <svg xmlns=\"http://www.w3.org/2000/svg\" height=\"24px\"viewBox=\"0 0 24 24\"\n",
              "       width=\"24px\">\n",
              "    <path d=\"M0 0h24v24H0V0z\" fill=\"none\"/>\n",
              "    <path d=\"M18.56 5.44l.94 2.06.94-2.06 2.06-.94-2.06-.94-.94-2.06-.94 2.06-2.06.94zm-11 1L8.5 8.5l.94-2.06 2.06-.94-2.06-.94L8.5 2.5l-.94 2.06-2.06.94zm10 10l.94 2.06.94-2.06 2.06-.94-2.06-.94-.94-2.06-.94 2.06-2.06.94z\"/><path d=\"M17.41 7.96l-1.37-1.37c-.4-.4-.92-.59-1.43-.59-.52 0-1.04.2-1.43.59L10.3 9.45l-7.72 7.72c-.78.78-.78 2.05 0 2.83L4 21.41c.39.39.9.59 1.41.59.51 0 1.02-.2 1.41-.59l7.78-7.78 2.81-2.81c.8-.78.8-2.07 0-2.86zM5.41 20L4 18.59l7.72-7.72 1.47 1.35L5.41 20z\"/>\n",
              "  </svg>\n",
              "      </button>\n",
              "      \n",
              "  <style>\n",
              "    .colab-df-container {\n",
              "      display:flex;\n",
              "      flex-wrap:wrap;\n",
              "      gap: 12px;\n",
              "    }\n",
              "\n",
              "    .colab-df-convert {\n",
              "      background-color: #E8F0FE;\n",
              "      border: none;\n",
              "      border-radius: 50%;\n",
              "      cursor: pointer;\n",
              "      display: none;\n",
              "      fill: #1967D2;\n",
              "      height: 32px;\n",
              "      padding: 0 0 0 0;\n",
              "      width: 32px;\n",
              "    }\n",
              "\n",
              "    .colab-df-convert:hover {\n",
              "      background-color: #E2EBFA;\n",
              "      box-shadow: 0px 1px 2px rgba(60, 64, 67, 0.3), 0px 1px 3px 1px rgba(60, 64, 67, 0.15);\n",
              "      fill: #174EA6;\n",
              "    }\n",
              "\n",
              "    [theme=dark] .colab-df-convert {\n",
              "      background-color: #3B4455;\n",
              "      fill: #D2E3FC;\n",
              "    }\n",
              "\n",
              "    [theme=dark] .colab-df-convert:hover {\n",
              "      background-color: #434B5C;\n",
              "      box-shadow: 0px 1px 3px 1px rgba(0, 0, 0, 0.15);\n",
              "      filter: drop-shadow(0px 1px 2px rgba(0, 0, 0, 0.3));\n",
              "      fill: #FFFFFF;\n",
              "    }\n",
              "  </style>\n",
              "\n",
              "      <script>\n",
              "        const buttonEl =\n",
              "          document.querySelector('#df-95c2b962-2c3e-4974-951b-4e4e4c84546a button.colab-df-convert');\n",
              "        buttonEl.style.display =\n",
              "          google.colab.kernel.accessAllowed ? 'block' : 'none';\n",
              "\n",
              "        async function convertToInteractive(key) {\n",
              "          const element = document.querySelector('#df-95c2b962-2c3e-4974-951b-4e4e4c84546a');\n",
              "          const dataTable =\n",
              "            await google.colab.kernel.invokeFunction('convertToInteractive',\n",
              "                                                     [key], {});\n",
              "          if (!dataTable) return;\n",
              "\n",
              "          const docLinkHtml = 'Like what you see? Visit the ' +\n",
              "            '<a target=\"_blank\" href=https://colab.research.google.com/notebooks/data_table.ipynb>data table notebook</a>'\n",
              "            + ' to learn more about interactive tables.';\n",
              "          element.innerHTML = '';\n",
              "          dataTable['output_type'] = 'display_data';\n",
              "          await google.colab.output.renderOutput(dataTable, element);\n",
              "          const docLink = document.createElement('div');\n",
              "          docLink.innerHTML = docLinkHtml;\n",
              "          element.appendChild(docLink);\n",
              "        }\n",
              "      </script>\n",
              "    </div>\n",
              "  </div>\n",
              "  "
            ],
            "text/plain": [
              "                   일시 측정소  PM2.5    기온(°C)  습도(%)     년   월   일     시간\n",
              "0 2016-01-01 00:00:00  공주  0.056  0.173776  0.828  2016  01  01  00:00\n",
              "1 2016-01-01 01:00:00  공주  0.060  0.176935  0.831  2016  01  01  01:00\n",
              "2 2016-01-01 02:00:00  공주  0.068  0.180095  0.784  2016  01  01  02:00\n",
              "3 2016-01-01 03:00:00  공주  0.060  0.178515  0.745  2016  01  01  03:00\n",
              "4 2016-01-01 04:00:00  공주  0.068  0.164297  0.750  2016  01  01  04:00"
            ]
          },
          "execution_count": 16,
          "metadata": {},
          "output_type": "execute_result"
        }
      ],
      "source": [
        "train.head()"
      ]
    },
    {
      "cell_type": "code",
      "execution_count": null,
      "metadata": {
        "id": "WbUxuKUzT0Ek"
      },
      "outputs": [],
      "source": [
        "# 일시 칼럼 삭제\n",
        "train.drop(columns=['일시'], inplace=True)"
      ]
    },
    {
      "cell_type": "code",
      "execution_count": null,
      "metadata": {
        "id": "huLj3gAOXpPW"
      },
      "outputs": [],
      "source": [
        "# 년, 월, 일, 시간 칼럼을 0, 1, 2, 3번째 위치로 옮기기\n",
        "cols = train.columns.tolist()\n",
        "cols = cols[-4:] + cols[:-4]\n",
        "train = train[cols]"
      ]
    },
    {
      "cell_type": "code",
      "execution_count": null,
      "metadata": {
        "id": "UFwdKi1CXZYg"
      },
      "outputs": [],
      "source": [
        "# 월 칼럼을 정수(integer)로 변환\n",
        "train['월'] = train['월'].astype(int)\n",
        "\n",
        "# 계절 정보 추가 (1:봄 2:여름 3:가을 4:겨울)\n",
        "train['계절'] = train['월'].apply(lambda x: (x % 12 + 3) // 3)"
      ]
    },
    {
      "cell_type": "code",
      "execution_count": null,
      "metadata": {
        "id": "2nbGWgzIcQil"
      },
      "outputs": [],
      "source": [
        "# 계절 칼럼을 4번째 위치로 옮기기\n",
        "cols = train.columns.tolist()\n",
        "cols.remove('계절')\n",
        "cols.insert(4, '계절')\n",
        "train = train[cols]"
      ]
    },
    {
      "cell_type": "code",
      "execution_count": null,
      "metadata": {
        "colab": {
          "base_uri": "https://localhost:8080/",
          "height": 206
        },
        "id": "0oeslYWCcmm2",
        "outputId": "377a975a-b858-402a-88e4-61d43f18690f"
      },
      "outputs": [
        {
          "data": {
            "text/html": [
              "\n",
              "  <div id=\"df-920fc980-7af8-44f2-bb56-ae61d046bdf4\">\n",
              "    <div class=\"colab-df-container\">\n",
              "      <div>\n",
              "<style scoped>\n",
              "    .dataframe tbody tr th:only-of-type {\n",
              "        vertical-align: middle;\n",
              "    }\n",
              "\n",
              "    .dataframe tbody tr th {\n",
              "        vertical-align: top;\n",
              "    }\n",
              "\n",
              "    .dataframe thead th {\n",
              "        text-align: right;\n",
              "    }\n",
              "</style>\n",
              "<table border=\"1\" class=\"dataframe\">\n",
              "  <thead>\n",
              "    <tr style=\"text-align: right;\">\n",
              "      <th></th>\n",
              "      <th>년</th>\n",
              "      <th>월</th>\n",
              "      <th>일</th>\n",
              "      <th>시간</th>\n",
              "      <th>계절</th>\n",
              "      <th>측정소</th>\n",
              "      <th>PM2.5</th>\n",
              "      <th>기온(°C)</th>\n",
              "      <th>습도(%)</th>\n",
              "    </tr>\n",
              "  </thead>\n",
              "  <tbody>\n",
              "    <tr>\n",
              "      <th>0</th>\n",
              "      <td>2016</td>\n",
              "      <td>1</td>\n",
              "      <td>01</td>\n",
              "      <td>00:00</td>\n",
              "      <td>1</td>\n",
              "      <td>공주</td>\n",
              "      <td>0.056</td>\n",
              "      <td>0.173776</td>\n",
              "      <td>0.828</td>\n",
              "    </tr>\n",
              "    <tr>\n",
              "      <th>1</th>\n",
              "      <td>2016</td>\n",
              "      <td>1</td>\n",
              "      <td>01</td>\n",
              "      <td>01:00</td>\n",
              "      <td>1</td>\n",
              "      <td>공주</td>\n",
              "      <td>0.060</td>\n",
              "      <td>0.176935</td>\n",
              "      <td>0.831</td>\n",
              "    </tr>\n",
              "    <tr>\n",
              "      <th>2</th>\n",
              "      <td>2016</td>\n",
              "      <td>1</td>\n",
              "      <td>01</td>\n",
              "      <td>02:00</td>\n",
              "      <td>1</td>\n",
              "      <td>공주</td>\n",
              "      <td>0.068</td>\n",
              "      <td>0.180095</td>\n",
              "      <td>0.784</td>\n",
              "    </tr>\n",
              "    <tr>\n",
              "      <th>3</th>\n",
              "      <td>2016</td>\n",
              "      <td>1</td>\n",
              "      <td>01</td>\n",
              "      <td>03:00</td>\n",
              "      <td>1</td>\n",
              "      <td>공주</td>\n",
              "      <td>0.060</td>\n",
              "      <td>0.178515</td>\n",
              "      <td>0.745</td>\n",
              "    </tr>\n",
              "    <tr>\n",
              "      <th>4</th>\n",
              "      <td>2016</td>\n",
              "      <td>1</td>\n",
              "      <td>01</td>\n",
              "      <td>04:00</td>\n",
              "      <td>1</td>\n",
              "      <td>공주</td>\n",
              "      <td>0.068</td>\n",
              "      <td>0.164297</td>\n",
              "      <td>0.750</td>\n",
              "    </tr>\n",
              "  </tbody>\n",
              "</table>\n",
              "</div>\n",
              "      <button class=\"colab-df-convert\" onclick=\"convertToInteractive('df-920fc980-7af8-44f2-bb56-ae61d046bdf4')\"\n",
              "              title=\"Convert this dataframe to an interactive table.\"\n",
              "              style=\"display:none;\">\n",
              "        \n",
              "  <svg xmlns=\"http://www.w3.org/2000/svg\" height=\"24px\"viewBox=\"0 0 24 24\"\n",
              "       width=\"24px\">\n",
              "    <path d=\"M0 0h24v24H0V0z\" fill=\"none\"/>\n",
              "    <path d=\"M18.56 5.44l.94 2.06.94-2.06 2.06-.94-2.06-.94-.94-2.06-.94 2.06-2.06.94zm-11 1L8.5 8.5l.94-2.06 2.06-.94-2.06-.94L8.5 2.5l-.94 2.06-2.06.94zm10 10l.94 2.06.94-2.06 2.06-.94-2.06-.94-.94-2.06-.94 2.06-2.06.94z\"/><path d=\"M17.41 7.96l-1.37-1.37c-.4-.4-.92-.59-1.43-.59-.52 0-1.04.2-1.43.59L10.3 9.45l-7.72 7.72c-.78.78-.78 2.05 0 2.83L4 21.41c.39.39.9.59 1.41.59.51 0 1.02-.2 1.41-.59l7.78-7.78 2.81-2.81c.8-.78.8-2.07 0-2.86zM5.41 20L4 18.59l7.72-7.72 1.47 1.35L5.41 20z\"/>\n",
              "  </svg>\n",
              "      </button>\n",
              "      \n",
              "  <style>\n",
              "    .colab-df-container {\n",
              "      display:flex;\n",
              "      flex-wrap:wrap;\n",
              "      gap: 12px;\n",
              "    }\n",
              "\n",
              "    .colab-df-convert {\n",
              "      background-color: #E8F0FE;\n",
              "      border: none;\n",
              "      border-radius: 50%;\n",
              "      cursor: pointer;\n",
              "      display: none;\n",
              "      fill: #1967D2;\n",
              "      height: 32px;\n",
              "      padding: 0 0 0 0;\n",
              "      width: 32px;\n",
              "    }\n",
              "\n",
              "    .colab-df-convert:hover {\n",
              "      background-color: #E2EBFA;\n",
              "      box-shadow: 0px 1px 2px rgba(60, 64, 67, 0.3), 0px 1px 3px 1px rgba(60, 64, 67, 0.15);\n",
              "      fill: #174EA6;\n",
              "    }\n",
              "\n",
              "    [theme=dark] .colab-df-convert {\n",
              "      background-color: #3B4455;\n",
              "      fill: #D2E3FC;\n",
              "    }\n",
              "\n",
              "    [theme=dark] .colab-df-convert:hover {\n",
              "      background-color: #434B5C;\n",
              "      box-shadow: 0px 1px 3px 1px rgba(0, 0, 0, 0.15);\n",
              "      filter: drop-shadow(0px 1px 2px rgba(0, 0, 0, 0.3));\n",
              "      fill: #FFFFFF;\n",
              "    }\n",
              "  </style>\n",
              "\n",
              "      <script>\n",
              "        const buttonEl =\n",
              "          document.querySelector('#df-920fc980-7af8-44f2-bb56-ae61d046bdf4 button.colab-df-convert');\n",
              "        buttonEl.style.display =\n",
              "          google.colab.kernel.accessAllowed ? 'block' : 'none';\n",
              "\n",
              "        async function convertToInteractive(key) {\n",
              "          const element = document.querySelector('#df-920fc980-7af8-44f2-bb56-ae61d046bdf4');\n",
              "          const dataTable =\n",
              "            await google.colab.kernel.invokeFunction('convertToInteractive',\n",
              "                                                     [key], {});\n",
              "          if (!dataTable) return;\n",
              "\n",
              "          const docLinkHtml = 'Like what you see? Visit the ' +\n",
              "            '<a target=\"_blank\" href=https://colab.research.google.com/notebooks/data_table.ipynb>data table notebook</a>'\n",
              "            + ' to learn more about interactive tables.';\n",
              "          element.innerHTML = '';\n",
              "          dataTable['output_type'] = 'display_data';\n",
              "          await google.colab.output.renderOutput(dataTable, element);\n",
              "          const docLink = document.createElement('div');\n",
              "          docLink.innerHTML = docLinkHtml;\n",
              "          element.appendChild(docLink);\n",
              "        }\n",
              "      </script>\n",
              "    </div>\n",
              "  </div>\n",
              "  "
            ],
            "text/plain": [
              "      년  월   일     시간  계절 측정소  PM2.5    기온(°C)  습도(%)\n",
              "0  2016  1  01  00:00   1  공주  0.056  0.173776  0.828\n",
              "1  2016  1  01  01:00   1  공주  0.060  0.176935  0.831\n",
              "2  2016  1  01  02:00   1  공주  0.068  0.180095  0.784\n",
              "3  2016  1  01  03:00   1  공주  0.060  0.178515  0.745\n",
              "4  2016  1  01  04:00   1  공주  0.068  0.164297  0.750"
            ]
          },
          "execution_count": 21,
          "metadata": {},
          "output_type": "execute_result"
        }
      ],
      "source": [
        "train.head()"
      ]
    },
    {
      "cell_type": "code",
      "execution_count": null,
      "metadata": {
        "colab": {
          "base_uri": "https://localhost:8080/",
          "height": 487
        },
        "id": "eMx1Ix0bcnmc",
        "outputId": "a18417a8-ca58-4ee0-baf6-7475be3d7d0e"
      },
      "outputs": [
        {
          "data": {
            "image/png": "[encoded data removed]",
            "text/plain": [
              "<Figure size 800x500 with 1 Axes>"
            ]
          },
          "metadata": {},
          "output_type": "display_data"
        }
      ],
      "source": [
        "# 계절별 PM2.5 평균값 계산\n",
        "seasonal_means = train.groupby('계절')['PM2.5'].mean().reset_index()\n",
        "\n",
        "# 계절 이름 설정\n",
        "seasonal_names = {1: 'spring', 2: 'summer', 3: 'fall', 4: 'winter'}\n",
        "seasonal_means['계절절'] = seasonal_means['계절'].map(seasonal_names)\n",
        "\n",
        "# 시각화\n",
        "plt.figure(figsize=(8, 5))\n",
        "sns.barplot(x='계절', y='PM2.5', data=seasonal_means)\n",
        "plt.title('Season PM2.5 means')\n",
        "plt.xlabel('Season')\n",
        "plt.ylabel('PM2.5 means')\n",
        "plt.show()"
      ]
    },
    {
      "cell_type": "code",
      "execution_count": null,
      "metadata": {
        "colab": {
          "base_uri": "https://localhost:8080/",
          "height": 238
        },
        "id": "RJQtZ9U4dKpr",
        "outputId": "14a9fd51-c23f-4964-a1b8-0fbe526ae4e0"
      },
      "outputs": [
        {
          "data": {
            "image/png": "[encoded data removed]",
            "text/plain": [
              "<Figure size 2000x500 with 1 Axes>"
            ]
          },
          "metadata": {},
          "output_type": "display_data"
        }
      ],
      "source": [
        "# 문자열 타입을 정수 타입으로 변환\n",
        "train['년'] = train['년'].astype(int)\n",
        "train['월'] = train['월'].astype(int)\n",
        "train['일'] = train['일'].astype(int)\n",
        "\n",
        "# 시간 칼럼에서 시간 부분만 추출하여 정수로 변환\n",
        "train['시간'] = train['시간'].apply(lambda x: int(x.split(':')[0]))\n",
        "\n",
        "# 일시(datetime) 열 생성\n",
        "train['일시'] = train['년'].astype(str) + '-' + train['월'].astype(str) + '-' + train['일'].astype(str) + ' ' + train['시간'].astype(str) + ':00'\n",
        "train['일시'] = pd.to_datetime(train['일시'], format='%Y-%m-%d %H:%M')\n",
        "train.set_index('일시', inplace=True)\n",
        "\n",
        "# PM2.5 시계열 데이터 시각화\n",
        "plt.figure(figsize=(20, 5))\n",
        "train['PM2.5'].plot()\n",
        "plt.title('시간에 따른 PM2.5 변화')\n",
        "plt.ylabel('PM2.5')\n",
        "plt.show()"
      ]
    },
    {
      "cell_type": "code",
      "execution_count": null,
      "metadata": {
        "id": "PNXCdQxFo_QU"
      },
      "outputs": [],
      "source": [
        "# 일시(datetime) 열 생성\n",
        "train['일시'] = pd.to_datetime(train['년'].astype(str) + '-' + train['월'].astype(str) + '-' + train['일'].astype(str) + ' ' + train['시간'].astype(str) + ':00')\n",
        "train.set_index('일시', inplace=True)"
      ]
    },
    {
      "cell_type": "code",
      "execution_count": null,
      "metadata": {
        "colab": {
          "background_save": true
        },
        "id": "02BizqpLefzU",
        "outputId": "63086a28-2c40-459f-f2b5-8d65780b660b"
      },
      "outputs": [
        {
          "data": {
            "image/png": "[encoded data removed]",
            "text/plain": [
              "<Figure size 1500x500 with 2 Axes>"
            ]
          },
          "metadata": {},
          "output_type": "display_data"
        }
      ],
      "source": [
        "from statsmodels.graphics.tsaplots import plot_acf, plot_pacf\n",
        "\n",
        "# 일시(datetime) 열 생성\n",
        "#train['일시'] = pd.to_datetime(train[['년', '월', '일', '시간']])\n",
        "#train.set_index('일시', inplace=True)\n",
        "\n",
        "# ACF 및 PACF 시각화\n",
        "fig, axes = plt.subplots(1, 2, figsize=(15, 5))\n",
        "plot_acf(train['PM2.5'], lags=48, ax=axes[0])  # 자기상관 함수(ACF) 그래프\n",
        "plot_pacf(train['PM2.5'], lags=48, ax=axes[1])  # 편자기상관 함수(PACF) 그래프\n",
        "plt.show()"
      ]
    },
    {
      "cell_type": "markdown",
      "source": [
        "###ACF 그래프가 꾸준히 감소하고 PACF그래프가 급격하게 감소하므로 주기성이 없다고 봄."
      ],
      "metadata": {
        "id": "n-8hx_mcGAad"
      }
    },
    {
      "cell_type": "code",
      "execution_count": null,
      "metadata": {
        "id": "Tm5MIr2Qgh-T"
      },
      "outputs": [],
      "source": []
    },
    {
      "cell_type": "code",
      "execution_count": null,
      "metadata": {
        "id": "8NfUIke6o02b"
      },
      "outputs": [],
      "source": []
    }
  ],
  "metadata": {
    "colab": {
      "provenance": []
    },
    "kernelspec": {
      "display_name": "Python 3",
      "name": "python3"
    },
    "language_info": {
      "name": "python"
    }
  },
  "nbformat": 4,
  "nbformat_minor": 0
}