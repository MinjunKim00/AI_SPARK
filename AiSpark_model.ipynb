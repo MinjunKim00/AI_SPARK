{
  "nbformat": 4,
  "nbformat_minor": 0,
  "metadata": {
    "colab": {
      "provenance": []
    },
    "kernelspec": {
      "name": "python3",
      "display_name": "Python 3"
    },
    "language_info": {
      "name": "python"
    }
  },
  "cells": [
    {
      "cell_type": "markdown",
      "source": [
        "#LinearRegression"
      ],
      "metadata": {
        "id": "D5JfheTMm02_"
      }
    },
    {
      "cell_type": "code",
      "execution_count": null,
      "metadata": {
        "id": "2F163606HEjY"
      },
      "outputs": [],
      "source": [
        "from google.colab import drive\n",
        "import numpy as np\n",
        "import pandas as pd\n",
        "import matplotlib.pyplot as plt"
      ]
    },
    {
      "cell_type": "code",
      "source": [
        "drive.mount('/content/drive')"
      ],
      "metadata": {
        "colab": {
          "base_uri": "https://localhost:8080/"
        },
        "id": "PNme4bzGHLA5",
        "outputId": "5e6887c3-5d4e-49b2-98e3-c885bdc001ce"
      },
      "execution_count": null,
      "outputs": [
        {
          "output_type": "stream",
          "name": "stdout",
          "text": [
            "Mounted at /content/drive\n"
          ]
        }
      ]
    },
    {
      "cell_type": "code",
      "source": [
        "import glob\n",
        "from sklearn.model_selection import train_test_split\n",
        "from sklearn.linear_model import LinearRegression\n",
        "from sklearn.metrics import mean_squared_error, r2_score"
      ],
      "metadata": {
        "id": "zrsNTytgHN6v"
      },
      "execution_count": null,
      "outputs": []
    },
    {
      "cell_type": "code",
      "source": [
        "path = '/content/drive/MyDrive/ColabNotebooks/AiSpark/TRAIN_DATA'  # 여러분의 CSV 파일이 위치한 폴더 경로로 변경하세요.\n",
        "all_files = glob.glob(path + '/*.csv')\n",
        "\n",
        "data_frames = []\n",
        "\n",
        "for file in all_files:\n",
        "    df = pd.read_csv(file, index_col=None, header=0)\n",
        "    data_frames.append(df)\n",
        "\n",
        "merged_data = pd.concat(data_frames, axis=0, ignore_index=True)"
      ],
      "metadata": {
        "id": "NP06CwY2Hlan"
      },
      "execution_count": null,
      "outputs": []
    },
    {
      "cell_type": "code",
      "source": [
        "merged_data.shape"
      ],
      "metadata": {
        "id": "voTvI-I0INL-",
        "colab": {
          "base_uri": "https://localhost:8080/"
        },
        "outputId": "e937ca69-cbdc-4ad4-df50-fbb2e397c4db"
      },
      "execution_count": null,
      "outputs": [
        {
          "output_type": "execute_result",
          "data": {
            "text/plain": [
              "(596088, 6)"
            ]
          },
          "metadata": {},
          "execution_count": 5
        }
      ]
    },
    {
      "cell_type": "code",
      "source": [
        "merged_data.head()"
      ],
      "metadata": {
        "id": "oyxbNnXuILLJ",
        "colab": {
          "base_uri": "https://localhost:8080/",
          "height": 206
        },
        "outputId": "b15bab16-f055-497c-8dc8-8fb5b33b36ec"
      },
      "execution_count": null,
      "outputs": [
        {
          "output_type": "execute_result",
          "data": {
            "text/plain": [
              "   연도           일시 측정소  PM2.5    기온(°C)  습도(%)\n",
              "0   0  01-01 00:00  공주  0.056  0.173776  0.828\n",
              "1   0  01-01 01:00  공주  0.060  0.176935  0.831\n",
              "2   0  01-01 02:00  공주  0.068  0.180095  0.784\n",
              "3   0  01-01 03:00  공주  0.060  0.178515  0.745\n",
              "4   0  01-01 04:00  공주  0.068  0.164297  0.750"
            ],
            "text/html": [
              "\n",
              "  <div id=\"df-363c730d-274d-4ee9-887f-ba517920975f\">\n",
              "    <div class=\"colab-df-container\">\n",
              "      <div>\n",
              "<style scoped>\n",
              "    .dataframe tbody tr th:only-of-type {\n",
              "        vertical-align: middle;\n",
              "    }\n",
              "\n",
              "    .dataframe tbody tr th {\n",
              "        vertical-align: top;\n",
              "    }\n",
              "\n",
              "    .dataframe thead th {\n",
              "        text-align: right;\n",
              "    }\n",
              "</style>\n",
              "<table border=\"1\" class=\"dataframe\">\n",
              "  <thead>\n",
              "    <tr style=\"text-align: right;\">\n",
              "      <th></th>\n",
              "      <th>연도</th>\n",
              "      <th>일시</th>\n",
              "      <th>측정소</th>\n",
              "      <th>PM2.5</th>\n",
              "      <th>기온(°C)</th>\n",
              "      <th>습도(%)</th>\n",
              "    </tr>\n",
              "  </thead>\n",
              "  <tbody>\n",
              "    <tr>\n",
              "      <th>0</th>\n",
              "      <td>0</td>\n",
              "      <td>01-01 00:00</td>\n",
              "      <td>공주</td>\n",
              "      <td>0.056</td>\n",
              "      <td>0.173776</td>\n",
              "      <td>0.828</td>\n",
              "    </tr>\n",
              "    <tr>\n",
              "      <th>1</th>\n",
              "      <td>0</td>\n",
              "      <td>01-01 01:00</td>\n",
              "      <td>공주</td>\n",
              "      <td>0.060</td>\n",
              "      <td>0.176935</td>\n",
              "      <td>0.831</td>\n",
              "    </tr>\n",
              "    <tr>\n",
              "      <th>2</th>\n",
              "      <td>0</td>\n",
              "      <td>01-01 02:00</td>\n",
              "      <td>공주</td>\n",
              "      <td>0.068</td>\n",
              "      <td>0.180095</td>\n",
              "      <td>0.784</td>\n",
              "    </tr>\n",
              "    <tr>\n",
              "      <th>3</th>\n",
              "      <td>0</td>\n",
              "      <td>01-01 03:00</td>\n",
              "      <td>공주</td>\n",
              "      <td>0.060</td>\n",
              "      <td>0.178515</td>\n",
              "      <td>0.745</td>\n",
              "    </tr>\n",
              "    <tr>\n",
              "      <th>4</th>\n",
              "      <td>0</td>\n",
              "      <td>01-01 04:00</td>\n",
              "      <td>공주</td>\n",
              "      <td>0.068</td>\n",
              "      <td>0.164297</td>\n",
              "      <td>0.750</td>\n",
              "    </tr>\n",
              "  </tbody>\n",
              "</table>\n",
              "</div>\n",
              "      <button class=\"colab-df-convert\" onclick=\"convertToInteractive('df-363c730d-274d-4ee9-887f-ba517920975f')\"\n",
              "              title=\"Convert this dataframe to an interactive table.\"\n",
              "              style=\"display:none;\">\n",
              "        \n",
              "  <svg xmlns=\"http://www.w3.org/2000/svg\" height=\"24px\"viewBox=\"0 0 24 24\"\n",
              "       width=\"24px\">\n",
              "    <path d=\"M0 0h24v24H0V0z\" fill=\"none\"/>\n",
              "    <path d=\"M18.56 5.44l.94 2.06.94-2.06 2.06-.94-2.06-.94-.94-2.06-.94 2.06-2.06.94zm-11 1L8.5 8.5l.94-2.06 2.06-.94-2.06-.94L8.5 2.5l-.94 2.06-2.06.94zm10 10l.94 2.06.94-2.06 2.06-.94-2.06-.94-.94-2.06-.94 2.06-2.06.94z\"/><path d=\"M17.41 7.96l-1.37-1.37c-.4-.4-.92-.59-1.43-.59-.52 0-1.04.2-1.43.59L10.3 9.45l-7.72 7.72c-.78.78-.78 2.05 0 2.83L4 21.41c.39.39.9.59 1.41.59.51 0 1.02-.2 1.41-.59l7.78-7.78 2.81-2.81c.8-.78.8-2.07 0-2.86zM5.41 20L4 18.59l7.72-7.72 1.47 1.35L5.41 20z\"/>\n",
              "  </svg>\n",
              "      </button>\n",
              "      \n",
              "  <style>\n",
              "    .colab-df-container {\n",
              "      display:flex;\n",
              "      flex-wrap:wrap;\n",
              "      gap: 12px;\n",
              "    }\n",
              "\n",
              "    .colab-df-convert {\n",
              "      background-color: #E8F0FE;\n",
              "      border: none;\n",
              "      border-radius: 50%;\n",
              "      cursor: pointer;\n",
              "      display: none;\n",
              "      fill: #1967D2;\n",
              "      height: 32px;\n",
              "      padding: 0 0 0 0;\n",
              "      width: 32px;\n",
              "    }\n",
              "\n",
              "    .colab-df-convert:hover {\n",
              "      background-color: #E2EBFA;\n",
              "      box-shadow: 0px 1px 2px rgba(60, 64, 67, 0.3), 0px 1px 3px 1px rgba(60, 64, 67, 0.15);\n",
              "      fill: #174EA6;\n",
              "    }\n",
              "\n",
              "    [theme=dark] .colab-df-convert {\n",
              "      background-color: #3B4455;\n",
              "      fill: #D2E3FC;\n",
              "    }\n",
              "\n",
              "    [theme=dark] .colab-df-convert:hover {\n",
              "      background-color: #434B5C;\n",
              "      box-shadow: 0px 1px 3px 1px rgba(0, 0, 0, 0.15);\n",
              "      filter: drop-shadow(0px 1px 2px rgba(0, 0, 0, 0.3));\n",
              "      fill: #FFFFFF;\n",
              "    }\n",
              "  </style>\n",
              "\n",
              "      <script>\n",
              "        const buttonEl =\n",
              "          document.querySelector('#df-363c730d-274d-4ee9-887f-ba517920975f button.colab-df-convert');\n",
              "        buttonEl.style.display =\n",
              "          google.colab.kernel.accessAllowed ? 'block' : 'none';\n",
              "\n",
              "        async function convertToInteractive(key) {\n",
              "          const element = document.querySelector('#df-363c730d-274d-4ee9-887f-ba517920975f');\n",
              "          const dataTable =\n",
              "            await google.colab.kernel.invokeFunction('convertToInteractive',\n",
              "                                                     [key], {});\n",
              "          if (!dataTable) return;\n",
              "\n",
              "          const docLinkHtml = 'Like what you see? Visit the ' +\n",
              "            '<a target=\"_blank\" href=https://colab.research.google.com/notebooks/data_table.ipynb>data table notebook</a>'\n",
              "            + ' to learn more about interactive tables.';\n",
              "          element.innerHTML = '';\n",
              "          dataTable['output_type'] = 'display_data';\n",
              "          await google.colab.output.renderOutput(dataTable, element);\n",
              "          const docLink = document.createElement('div');\n",
              "          docLink.innerHTML = docLinkHtml;\n",
              "          element.appendChild(docLink);\n",
              "        }\n",
              "      </script>\n",
              "    </div>\n",
              "  </div>\n",
              "  "
            ]
          },
          "metadata": {},
          "execution_count": 6
        }
      ]
    },
    {
      "cell_type": "code",
      "source": [
        "merged_data = merged_data.interpolate(method='linear')"
      ],
      "metadata": {
        "id": "4EUvlOymiKhK"
      },
      "execution_count": null,
      "outputs": []
    },
    {
      "cell_type": "code",
      "source": [
        "X_train = merged_data[['기온(°C)', '습도(%)']]\n",
        "y_train = merged_data['PM2.5']"
      ],
      "metadata": {
        "id": "dzYZ1j1EliN0"
      },
      "execution_count": null,
      "outputs": []
    },
    {
      "cell_type": "code",
      "source": [
        "path = '/content/drive/MyDrive/ColabNotebooks/AiSpark/TEST_DATA'  # 여러분의 CSV 파일이 위치한 폴더 경로로 변경하세요.\n",
        "all_files = glob.glob(path + '/*.csv')\n",
        "\n",
        "data_frames = []\n",
        "\n",
        "for file in all_files:\n",
        "    df = pd.read_csv(file, index_col=None, header=0)\n",
        "    data_frames.append(df)\n",
        "\n",
        "merged_data = pd.concat(data_frames, axis=0, ignore_index=True)"
      ],
      "metadata": {
        "id": "ly2mr22ulswk"
      },
      "execution_count": null,
      "outputs": []
    },
    {
      "cell_type": "code",
      "source": [
        "merged_data.shape"
      ],
      "metadata": {
        "colab": {
          "base_uri": "https://localhost:8080/"
        },
        "id": "fwbpKNlsl8Mj",
        "outputId": "16be6458-ca19-4b41-aa42-69a658ca8560"
      },
      "execution_count": null,
      "outputs": [
        {
          "output_type": "execute_result",
          "data": {
            "text/plain": [
              "(131376, 6)"
            ]
          },
          "metadata": {},
          "execution_count": 10
        }
      ]
    },
    {
      "cell_type": "code",
      "source": [
        "merged_data = merged_data.interpolate(method='linear')"
      ],
      "metadata": {
        "id": "tn2EqYNAmAjE"
      },
      "execution_count": null,
      "outputs": []
    },
    {
      "cell_type": "code",
      "source": [
        "X_test = merged_data[['기온(°C)', '습도(%)']]\n",
        "y_test = merged_data['PM2.5']"
      ],
      "metadata": {
        "id": "yKQ3BgommC64"
      },
      "execution_count": null,
      "outputs": []
    },
    {
      "cell_type": "code",
      "source": [
        "# 모델 생성 및 학습\n",
        "model = LinearRegression()\n",
        "model.fit(X_train, y_train)\n",
        "\n",
        "# 모델을 사용하여 테스트 데이터에 대한 예측 수행\n",
        "y_pred = model.predict(X_test)\n"
      ],
      "metadata": {
        "id": "lqYK41V-mJ2Q"
      },
      "execution_count": null,
      "outputs": []
    },
    {
      "cell_type": "code",
      "source": [
        "# 모델 성능 평가\n",
        "mse = mean_squared_error(y_test, y_pred)\n",
        "rmse = np.sqrt(mse)\n",
        "r2 = r2_score(y_test, y_pred)\n",
        "\n",
        "print('Mean Squared Error:', mse)\n",
        "print('Root Mean Squared Error:', rmse)\n",
        "print('R-squared:', r2)"
      ],
      "metadata": {
        "colab": {
          "base_uri": "https://localhost:8080/"
        },
        "id": "gq4mUynymWQA",
        "outputId": "e1d5c2b8-91fb-4ade-8698-cd04074c2113"
      },
      "execution_count": null,
      "outputs": [
        {
          "output_type": "stream",
          "name": "stdout",
          "text": [
            "Mean Squared Error: 0.002580979592459802\n",
            "Root Mean Squared Error: 0.05080334233551767\n",
            "R-squared: 0.09347744284062676\n"
          ]
        }
      ]
    },
    {
      "cell_type": "markdown",
      "source": [
        "#RandomForestRegressor"
      ],
      "metadata": {
        "id": "cfWXuUP_niIb"
      }
    },
    {
      "cell_type": "code",
      "source": [
        "from sklearn.ensemble import RandomForestRegressor, GradientBoostingRegressor"
      ],
      "metadata": {
        "id": "fyQBAyzOmeab"
      },
      "execution_count": null,
      "outputs": []
    },
    {
      "cell_type": "code",
      "source": [
        "# 모델 생성 및 학습\n",
        "random_forest_model = RandomForestRegressor(n_estimators=100, random_state=42)\n",
        "random_forest_model.fit(X_train, y_train)\n",
        "\n",
        "# 모델을 사용하여 테스트 데이터에 대한 예측 수행\n",
        "y_pred_rf = random_forest_model.predict(X_test)\n",
        "\n",
        "# 모델 성능 평가\n",
        "mse_rf = mean_squared_error(y_test, y_pred_rf)\n",
        "rmse_rf = np.sqrt(mse_rf)\n",
        "r2_rf = r2_score(y_test, y_pred_rf)\n",
        "\n",
        "print('Random Forest Mean Squared Error:', mse_rf)\n",
        "print('Random Forest Root Mean Squared Error:', rmse_rf)\n",
        "print('Random Forest R-squared:', r2_rf)\n"
      ],
      "metadata": {
        "colab": {
          "base_uri": "https://localhost:8080/"
        },
        "id": "vaTluJHKnlYx",
        "outputId": "feb34037-ecb3-4278-8fb7-93a9bda7cd95"
      },
      "execution_count": null,
      "outputs": [
        {
          "output_type": "stream",
          "name": "stdout",
          "text": [
            "Random Forest Mean Squared Error: 0.003932570690957289\n",
            "Random Forest Root Mean Squared Error: 0.06271021201492855\n",
            "Random Forest R-squared: -0.38124456674956364\n"
          ]
        }
      ]
    },
    {
      "cell_type": "markdown",
      "source": [
        "#GradioentBoostingRegressor"
      ],
      "metadata": {
        "id": "DV3LJDuwnqdO"
      }
    },
    {
      "cell_type": "code",
      "source": [
        "# 모델 생성 및 학습\n",
        "gradient_boosting_model = GradientBoostingRegressor(n_estimators=100, learning_rate=0.1, random_state=42)\n",
        "gradient_boosting_model.fit(X_train, y_train)\n",
        "\n",
        "# 모델을 사용하여 테스트 데이터에 대한 예측 수행\n",
        "y_pred_gb = gradient_boosting_model.predict(X_test)\n",
        "\n",
        "# 모델 성능 평가\n",
        "mse_gb = mean_squared_error(y_test, y_pred_gb)\n",
        "rmse_gb = np.sqrt(mse_gb)\n",
        "r2_gb = r2_score(y_test, y_pred_gb)\n",
        "\n",
        "print('Gradient Boosting Mean Squared Error:', mse_gb)\n",
        "print('Gradient Boosting Root Mean Squared Error:', rmse_gb)\n",
        "print('Gradient Boosting R-squared:', r2_gb)"
      ],
      "metadata": {
        "colab": {
          "base_uri": "https://localhost:8080/"
        },
        "id": "Bhvm24iQnnjC",
        "outputId": "8a606057-0bfa-4f18-dab0-78e223c522a5"
      },
      "execution_count": null,
      "outputs": [
        {
          "output_type": "stream",
          "name": "stdout",
          "text": [
            "Gradient Boosting Mean Squared Error: 0.002519180773605626\n",
            "Gradient Boosting Root Mean Squared Error: 0.05019144123857798\n",
            "Gradient Boosting R-squared: 0.11518316397874884\n"
          ]
        }
      ]
    },
    {
      "cell_type": "markdown",
      "source": [
        "#SupportVerctorRegression(SVM)"
      ],
      "metadata": {
        "id": "IQ7bO1wEpAAB"
      }
    },
    {
      "cell_type": "code",
      "source": [
        "from sklearn.svm import SVR\n",
        "\n",
        "# 모델 생성 및 학습\n",
        "svr_model = SVR(kernel='linear', C=1, epsilon=0.1)\n",
        "svr_model.fit(X_train, y_train)\n",
        "\n",
        "# 모델을 사용하여 테스트 데이터에 대한 예측 수행\n",
        "y_pred_svr = svr_model.predict(X_test)\n",
        "\n",
        "# 모델 성능 평가\n",
        "mse_svr = mean_squared_error(y_test, y_pred_svr)\n",
        "rmse_svr = np.sqrt(mse_svr)\n",
        "r2_svr = r2_score(y_test, y_pred_svr)\n",
        "\n",
        "print('Support Vector Regression Mean Squared Error:', mse_svr)\n",
        "print('Support Vector Regression Root Mean Squared Error:', rmse_svr)\n",
        "print('Support Vector Regression R-squared:', r2_svr)"
      ],
      "metadata": {
        "id": "qumkp5Fnocty"
      },
      "execution_count": null,
      "outputs": []
    },
    {
      "cell_type": "markdown",
      "source": [
        "#Ridge, Lasso"
      ],
      "metadata": {
        "id": "n5CJCAY9szh2"
      }
    },
    {
      "cell_type": "code",
      "source": [
        "from sklearn.linear_model import LinearRegression, Ridge, Lasso\n",
        "from sklearn.metrics import mean_squared_error, r2_score\n",
        "\n",
        "# 선형 회귀\n",
        "linear_model = LinearRegression()\n",
        "linear_model.fit(X_train, y_train)\n",
        "y_pred_linear = linear_model.predict(X_test)\n",
        "\n",
        "# Ridge 회귀\n",
        "ridge_model = Ridge(alpha=1.0)\n",
        "ridge_model.fit(X_train, y_train)\n",
        "y_pred_ridge = ridge_model.predict(X_test)\n",
        "\n",
        "# Lasso 회귀\n",
        "lasso_model = Lasso(alpha=1.0)\n",
        "lasso_model.fit(X_train, y_train)\n",
        "y_pred_lasso = lasso_model.predict(X_test)\n",
        "\n",
        "# 성능 평가\n",
        "mse_linear = mean_squared_error(y_test, y_pred_linear)\n",
        "mse_ridge = mean_squared_error(y_test, y_pred_ridge)\n",
        "mse_lasso = mean_squared_error(y_test, y_pred_lasso)\n",
        "\n",
        "r2_linear = r2_score(y_test, y_pred_linear)\n",
        "r2_ridge = r2_score(y_test, y_pred_ridge)\n",
        "r2_lasso = r2_score(y_test, y_pred_lasso)\n",
        "\n",
        "print('Linear Regression Mean Squared Error:', mse_linear)\n",
        "print('Ridge Regression Mean Squared Error:', mse_ridge)\n",
        "print('Lasso Regression Mean Squared Error:', mse_lasso)\n",
        "\n",
        "print('Linear Regression R-squared:', r2_linear)\n",
        "print('Ridge Regression R-squared:', r2_ridge)\n",
        "print('Lasso Regression R-squared:', r2_lasso)\n"
      ],
      "metadata": {
        "colab": {
          "base_uri": "https://localhost:8080/"
        },
        "id": "DUspEiFkpGfH",
        "outputId": "0e2fd906-d3c3-4245-dd1c-8fa8f87da760"
      },
      "execution_count": null,
      "outputs": [
        {
          "output_type": "stream",
          "name": "stdout",
          "text": [
            "Linear Regression Mean Squared Error: 0.002580979592459802\n",
            "Ridge Regression Mean Squared Error: 0.0025809855742720605\n",
            "Lasso Regression Mean Squared Error: 0.0029611111942920787\n",
            "Linear Regression R-squared: 0.09347744284062676\n",
            "Ridge Regression R-squared: 0.09347534183689887\n",
            "Lasso Regression R-squared: -0.04003693005748099\n"
          ]
        }
      ]
    }
  ]
}